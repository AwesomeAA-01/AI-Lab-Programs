{
  "nbformat": 4,
  "nbformat_minor": 0,
  "metadata": {
    "colab": {
      "provenance": []
    },
    "kernelspec": {
      "name": "python3",
      "display_name": "Python 3"
    },
    "language_info": {
      "name": "python"
    }
  },
  "cells": [
    {
      "cell_type": "code",
      "source": [
        "import numpy as np\n",
        "import pandas as pd\n",
        "from matplotlib import pyplot as plt\n",
        "dat = pd.read_csv(\"CEDS12.csv\",header=0)\n",
        "data = dat.values.tolist()\n",
        "data\n",
        "S = data[0][0:-1]\n",
        "S\n",
        "G = [['?' for i in range(len(S))] for j in range(len(S))]\n",
        "G\n",
        "for row in data:\n",
        " if row[-1] == \"Yes\":\n",
        " for j in range(len(S)):\n",
        " if row[j]!= S[j]:\n",
        " S[j]='?'\n",
        " G[j][j]='?'\n",
        " elif row[-1] == \"No\":\n",
        " for j in range(len(S)):\n",
        " if row[j]!=S[j]:\n",
        " G[j][j]=S[j]\n",
        " else:\n",
        " G[j][j]=\"?\"\n",
        " print(\"\\nAfter insatnce\",data.index(row)+1)\n",
        " print(\"Specific boundary is :\",S)\n",
        " print(\"General boundary is :\",G)\n",
        "print(\"\\nFinal specific hypothesis:\\n\",S)\n",
        "print(\"\\nFinal general hypothesis:\\n\",G) "
      ],
      "metadata": {
        "id": "-OnhBq_JNbWB"
      },
      "execution_count": null,
      "outputs": []
    }
  ]
}