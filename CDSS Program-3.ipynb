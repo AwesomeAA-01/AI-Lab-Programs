{
  "nbformat": 4,
  "nbformat_minor": 0,
  "metadata": {
    "colab": {
      "provenance": []
    },
    "kernelspec": {
      "name": "python3",
      "display_name": "Python 3"
    },
    "language_info": {
      "name": "python"
    }
  },
  "cells": [
    {
      "cell_type": "code",
      "execution_count": 1,
      "metadata": {
        "colab": {
          "base_uri": "https://localhost:8080/"
        },
        "id": "atVdLRkCLaBx",
        "outputId": "f61e811d-04bf-4533-8fa4-5ba07f5012ce"
      },
      "outputs": [
        {
          "output_type": "stream",
          "name": "stdout",
          "text": [
            "Enter a paragraph: As the sun began to set over the vast desert landscape, a lone traveler trudged wearily through the sand. The hot, dry air made it difficult to breathe, but the traveler was determined to reach their destination before nightfall. Their feet ached from walking for hours, and their water supply was running dangerously low. The traveler kept moving forward, scanning the horizon for any sign of shelter or civilization. Finally, as the last rays of sunlight disappeared behind the dunes, they spotted a faint glow in the distance. With renewed hope, the traveler quickened their pace and headed towards the light.\n",
            "\n",
            "Paragraph without punctuation: \n",
            "As the sun began to set over the vast desert landscape a lone traveler trudged wearily through the sand The hot dry air made it difficult to breathe but the traveler was determined to reach their destination before nightfall Their feet ached from walking for hours and their water supply was running dangerously low The traveler kept moving forward scanning the horizon for any sign of shelter or civilization Finally as the last rays of sunlight disappeared behind the dunes they spotted a faint glow in the distance With renewed hope the traveler quickened their pace and headed towards the light\n",
            "\n",
            "Number of spaces: \n",
            "100\n"
          ]
        }
      ],
      "source": [
        "import string\n",
        "\n",
        "def remove_punctuation(paragraph):\n",
        "    \"\"\"\n",
        "    Returns a modified version of `paragraph` with all punctuation marks removed.\n",
        "    \"\"\"\n",
        "    translator = str.maketrans(\"\", \"\", string.punctuation)\n",
        "    return paragraph.translate(translator)\n",
        "\n",
        "def count_spaces(paragraph):\n",
        "    \"\"\"\n",
        "    Returns the number of spaces in `paragraph`.\n",
        "    \"\"\"\n",
        "    return paragraph.count(\" \")\n",
        "\n",
        "if __name__ == \"__main__\":\n",
        "    paragraph = input(\"Enter a paragraph: \")\n",
        "    paragraph_without_punct = remove_punctuation(paragraph)\n",
        "    num_spaces = count_spaces(paragraph)\n",
        "\n",
        "    print(\"\\nParagraph without punctuation: \")\n",
        "    print(paragraph_without_punct)\n",
        "\n",
        "    print(\"\\nNumber of spaces: \")\n",
        "    print(num_spaces)\n"
      ]
    },
    {
      "cell_type": "code",
      "source": [],
      "metadata": {
        "id": "vvzoIq2oLa4I"
      },
      "execution_count": null,
      "outputs": []
    }
  ]
}