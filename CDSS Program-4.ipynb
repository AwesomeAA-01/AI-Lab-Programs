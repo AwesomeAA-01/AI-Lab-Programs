{
  "nbformat": 4,
  "nbformat_minor": 0,
  "metadata": {
    "colab": {
      "provenance": []
    },
    "kernelspec": {
      "name": "python3",
      "display_name": "Python 3"
    },
    "language_info": {
      "name": "python"
    }
  },
  "cells": [
    {
      "cell_type": "code",
      "execution_count": 1,
      "metadata": {
        "colab": {
          "base_uri": "https://localhost:8080/"
        },
        "id": "Bg9bdE2xMJ0Y",
        "outputId": "e6d2c797-b956-4bcf-a863-871b8df28400"
      },
      "outputs": [
        {
          "output_type": "stream",
          "name": "stdout",
          "text": [
            "Predictions:\n",
            "I enjoy watching sports on TV -> sports\n",
            "Politics is important for our country -> politics\n",
            "i love politics -> politics\n"
          ]
        }
      ],
      "source": [
        "from sklearn.feature_extraction.text import CountVectorizer\n",
        "from sklearn.naive_bayes import MultinomialNB\n",
        "\n",
        "def train_classifier(X_train, y_train):\n",
        "    \"\"\"\n",
        "    Trains a MultinomialNB classifier on the training data.\n",
        "    Returns the trained classifier.\n",
        "    \"\"\"\n",
        "    vectorizer = CountVectorizer(stop_words='english')\n",
        "    X_train_counts = vectorizer.fit_transform(X_train)\n",
        "    clf = MultinomialNB()\n",
        "    clf.fit(X_train_counts, y_train)\n",
        "    return clf, vectorizer\n",
        "\n",
        "def predict_classes(X_test, clf, vectorizer):\n",
        "    \"\"\"\n",
        "    Predicts class labels for test data and returns the predicted labels.\n",
        "    \"\"\"\n",
        "    X_test_counts = vectorizer.transform(X_test)\n",
        "    y_pred = clf.predict(X_test_counts)\n",
        "    return y_pred\n",
        "\n",
        "def print_predictions(X_test, y_pred):\n",
        "    \"\"\"\n",
        "    Prints the predicted classes for test data in a readable format.\n",
        "    \"\"\"\n",
        "    print(\"Predictions:\")\n",
        "    for i, text in enumerate(X_test):\n",
        "        print(f\"{text} -> {y_pred[i]}\")\n",
        "\n",
        "if __name__ == \"__main__\":\n",
        "    # Example training data\n",
        "    X_train = ['I love playing sports', 'Politics is my passion', 'Sports are fun', 'Politics is boring']\n",
        "    y_train = ['sports', 'politics', 'sports', 'politics']\n",
        "\n",
        "    # Train classifier on training data\n",
        "    clf, vectorizer = train_classifier(X_train, y_train)\n",
        "\n",
        "    # Example test data\n",
        "    X_test = ['I enjoy watching sports on TV', 'Politics is important for our country', 'i love politics']\n",
        "\n",
        "    # Predict class labels for test data\n",
        "    y_pred = predict_classes(X_test, clf, vectorizer)\n",
        "\n",
        "    # Print predicted classes for test data\n",
        "    print_predictions(X_test, y_pred)\n"
      ]
    },
    {
      "cell_type": "code",
      "source": [],
      "metadata": {
        "id": "BZwiJRN4MK4X"
      },
      "execution_count": null,
      "outputs": []
    }
  ]
}