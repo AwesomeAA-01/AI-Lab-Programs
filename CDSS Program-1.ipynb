{
  "nbformat": 4,
  "nbformat_minor": 0,
  "metadata": {
    "colab": {
      "provenance": []
    },
    "kernelspec": {
      "name": "python3",
      "display_name": "Python 3"
    },
    "language_info": {
      "name": "python"
    }
  },
  "cells": [
    {
      "cell_type": "code",
      "execution_count": 2,
      "metadata": {
        "id": "d2uhRx2VRa9F",
        "outputId": "315b0ee7-3870-4313-af27-a99c3e379543",
        "colab": {
          "base_uri": "https://localhost:8080/"
        }
      },
      "outputs": [
        {
          "output_type": "stream",
          "name": "stdout",
          "text": [
            "Edges of vertex a:  {'d'}\n",
            "Edges of vertex b:  {'c'}\n",
            "Edges of vertex c:  {'b', 'c', 'd', 'e'}\n",
            "Edges of vertex d:  {'a', 'c'}\n",
            "Edges of vertex e:  {'c'}\n",
            "Edges of vertex f:  {'b', 'g'}\n",
            "\n",
            "Vertices of graph:\n",
            "{'a', 'c', 'b', 'fg', 'f', 'd', 'xyz', 'ab', 'bla', 'e'}\n",
            "Edges of graph:\n",
            "[{'a', 'd'}, {'b', 'c'}, {'b', 'c'}, {'c'}, {'c', 'd'}, {'c', 'e'}, {'a', 'd'}, {'c', 'd'}, {'c', 'e'}, {'b', 'f'}, {'g', 'f'}, {'ab', 'fg'}, {'ab', 'fg'}, {'bla', 'xyz'}, {'bla', 'xyz'}]\n"
          ]
        }
      ],
      "source": [
        "class Graph:\n",
        "    def __init__(self, graph_dict=None):\n",
        "        if graph_dict is None:\n",
        "            graph_dict = {}\n",
        "        self.graph_dict = graph_dict\n",
        "\n",
        "    def generate_edges(self):\n",
        "        edges = []\n",
        "        for node in self.graph_dict:\n",
        "            for neighbour in self.graph_dict[node]:\n",
        "                edges.append({node, neighbour})\n",
        "        return edges\n",
        "\n",
        "    def find_isolated_nodes(self):\n",
        "        isolated = set()\n",
        "        for node in self.graph_dict:\n",
        "            if not self.graph_dict[node]:\n",
        "                isolated.add(node)\n",
        "        return isolated\n",
        "\n",
        "    def edges(self, vertex):\n",
        "        return self.graph_dict[vertex]\n",
        "\n",
        "    def vertices(self):\n",
        "        return set(self.graph_dict.keys())\n",
        "\n",
        "    def add_vertex(self, vertex):\n",
        "        if vertex not in self.graph_dict:\n",
        "            self.graph_dict[vertex] = set()\n",
        "\n",
        "    def add_edge(self, edge):\n",
        "        edge = set(edge)\n",
        "        vertex1, vertex2 = tuple(edge)\n",
        "        for v, w in [(vertex1, vertex2), (vertex2, vertex1)]:\n",
        "            self.add_vertex(v)\n",
        "            self.graph_dict[v].add(w)\n",
        "\n",
        "    def all_edges(self):\n",
        "        return self.generate_edges()\n",
        "\n",
        "    def __iter__(self):\n",
        "        return iter(self.graph_dict)\n",
        "\n",
        "    def __str__(self):\n",
        "        res = \"vertices: \"\n",
        "        for k in self.graph_dict:\n",
        "            res += str(k) + \" \"\n",
        "        res += \"\\nedges: \"\n",
        "        for edge in self.generate_edges():\n",
        "            res += str(edge) + \" \"\n",
        "        return res\n",
        "\n",
        "\n",
        "g = {\"a\": {\"d\"},\n",
        "     \"b\": {\"c\"},\n",
        "     \"c\": {\"b\", \"c\", \"d\", \"e\"},\n",
        "     \"d\": {\"a\", \"c\"},\n",
        "     \"e\": {\"c\"},\n",
        "     \"f\": {\"b\", \"g\"}}\n",
        "graph = Graph(g)\n",
        "for vertex in graph:\n",
        "    print(f\"Edges of vertex {vertex}: \", graph.edges(vertex))\n",
        "graph.add_edge({\"ab\", \"fg\"})\n",
        "graph.add_edge({\"xyz\", \"bla\"})\n",
        "print(\"\")\n",
        "print(\"Vertices of graph:\")\n",
        "print(graph.vertices())\n",
        "print(\"Edges of graph:\")\n",
        "print(graph.all_edges())"
      ]
    },
    {
      "cell_type": "code",
      "source": [],
      "metadata": {
        "id": "Egh7DMsNRb7u"
      },
      "execution_count": null,
      "outputs": []
    }
  ]
}